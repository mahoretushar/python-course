{
 "cells": [
  {
   "cell_type": "code",
   "execution_count": 36,
   "metadata": {},
   "outputs": [],
   "source": [
    "import requests\n",
    "from bs4 import BeautifulSoup"
   ]
  },
  {
   "cell_type": "code",
   "execution_count": 40,
   "metadata": {},
   "outputs": [
    {
     "name": "stdout",
     "output_type": "stream",
     "text": [
      "London\n",
      "Paris\n",
      "Tokyo\n",
      "London is the capital of England and it's been a British settlement since 2000 years ago. \n",
      "Paris is the capital city of France. It was declared capital since 508.\n",
      "Tokyo is the capital of Japan and one of the most populated cities in the world.\n"
     ]
    }
   ],
   "source": [
    "req = requests.get(\"http://pythonhow.com/example.html\")\n",
    "content = r.content\n",
    "\n",
    "soup = BeautifulSoup(content, 'html.parser')\n",
    "all = soup.find_all('div',{'class': 'cities'})\n",
    "for i in all:\n",
    "    print(i.find('h2').text)\n",
    "for i in all:\n",
    "    print(i.find('p').text)"
   ]
  }
 ],
 "metadata": {
  "kernelspec": {
   "display_name": "Python 3",
   "language": "python",
   "name": "python3"
  },
  "language_info": {
   "codemirror_mode": {
    "name": "ipython",
    "version": 3
   },
   "file_extension": ".py",
   "mimetype": "text/x-python",
   "name": "python",
   "nbconvert_exporter": "python",
   "pygments_lexer": "ipython3",
   "version": "3.5.3"
  }
 },
 "nbformat": 4,
 "nbformat_minor": 2
}
